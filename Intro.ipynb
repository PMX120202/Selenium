{
 "cells": [
  {
   "cell_type": "markdown",
   "metadata": {},
   "source": [
    "# Members\n",
    "<table>\n",
    "<tr>\n",
    "<td>Name </td>\n",
    "<td>MSSV</td>\n",
    "</tr>\n",
    "<tr>\n",
    "<td>Phan Minh Xuân</td>\n",
    "<td>20127395</td>\n",
    "</tr>\n",
    "<tr>\n",
    "<td>Bùi Duy Bảo</td>\n",
    "<td>20127444</td>\n",
    "</tr>\n",
    "<td>Nguyễn Thái Bảo</td>\n",
    "<td>20127448</td>\n",
    "</tr>\n",
    "</tr>\n",
    "<td>Bùi Gia Huy</td>\n",
    "<td>20127032</td>\n",
    "</tr>\n",
    "</table>"
   ]
  },
  {
   "cell_type": "markdown",
   "metadata": {},
   "source": [
    "# <font color=red >Introduction Selenium </font>\n",
    "### Why the name Selenium ? \n",
    "- The Name Selenium came from a joke that Jason cracked once to his team. During Selenium’s development, another automated testing framework was popular made by the company called Mercury Interactive (yes, the company who originally made QTP before it was acquired by HP). Since Selenium is a well-known antidote for Mercury poisoning, Jason suggested that name and his teammates took it. So that is how we got to call this framework up to the present.\n",
    "#####  Selenium consists of WebDriver, IDE, Grid \n",
    "### <font color=lightblue > WebDriver </font>\n",
    "- Selenium WebDriver is Selenium's browser automation framework.\n",
    "-  It supports several programming languages like C#, Java, Perl, Ruby, PHP, JavaScript and Python.\n",
    "-  This automation framework is implemented through a browser-specific driver and it can communicate directly with browsers and control them."
   ]
  },
  {
   "cell_type": "markdown",
   "metadata": {},
   "source": [
    "#### <font color=green > Install a Selenium Library </font>\n",
    "- pip install selenium \n",
    "#### <font color=green > Install Drivers </font>\n",
    "<table>\n",
    "<tr>\n",
    "<td>Browser </td>\n",
    "<td>Supported OS</td>\n",
    "<td>Maintained by</td>\n",
    "<td>Download</td>\n",
    "</tr>\n",
    "<tr>\n",
    "<td>Chrome</td>\n",
    "<td>Win/macOS/Linux</td>\n",
    "<td>Google</td>\n",
    "<td> https://chromedriver.chromium.org/downloads </td>\n",
    "</tr>\n",
    "<tr>\n",
    "<td>FireFox</td>\n",
    "<td>Win/macOS/Linux</td>\n",
    "<td>Mozilla</td>\n",
    "<td> https://github.com/mozilla/geckodriver/releases </td>\n",
    "</tr>\n",
    "<td>Edge</td>\n",
    "<td>Win/macOS/Linux</td>\n",
    "<td>Microsoft</td>\n",
    "<td> https://developer.microsoft.com/en-us/microsoft-edge/tools/webdriver/ </td>\n",
    "</tr>\n",
    "</tr>\n",
    "<td>Internet Explorer</td>\n",
    "<td>Windows</td>\n",
    "<td>Selenium Project</td>\n",
    "<td> https://www.selenium.dev/downloads/ </td>\n",
    "</tr>\n",
    "</table>\n",
    "\n",
    "#### <font color=green >  Upgrade to Selenium 4   </font>\n",
    "\n",
    "<font color = yellow> Selenium 3 </font>\n",
    "- The architecture for Selenium 3 includes the JSON Wire Protocol. However, Selenium 4 does not include the JSON Wire Protocol, and that’s the contrast between Selenium 3 and Selenium 4. JSON stands for JavaScript Object Notation.\n",
    "\n",
    "- The JSON Wire Protocol has an assignment to transfer information from the client to the server over HTTP. HTTP is an acronym for Hyper Text Transfer Protocol. A Selenium request is sent from the Selenium Client and WebDriver Language Bindings component. Next, the request is received by JSON Wire Protocol Over HTTP, then secured by the Browser Driver.\n",
    "\n",
    "- Afterwards, the request command is delivered to a Web Browser where the automation takes place. When the automation is complete, a response travels back to the Browser Driver, JSON Wire Protocol, and Selenium Client & WebDriver Language Bindings. Here is a diagram displaying Selenium 3 Architecture:\n",
    "![a](https://blog.testproject.io/wp-content/uploads/2021/05/1.-Selenium-3-Architecture.png)\n",
    "\n",
    "<font color = yellow> Selenium 4 </font> \n",
    "\n",
    "- Unlike Selenium 3, Selenium 4 has direct communication between the client and server\n",
    "- Selenium Client sends out a request to perform a command.\n",
    "- The WebDriver Language Bindings is a code library designed to drive actions.\n",
    "- Browser Drivers receive the request and then return a response after an automation Test Script executes on the Web Browser:\n",
    "![b](https://blog.testproject.io/wp-content/uploads/2021/05/2.-Selenium-4-Architecture.png)\n",
    "\n",
    "<font color = yellow> Selenium 4 Advantages </font> \n",
    "\n",
    "- With the upgrade, Selenium 4 successively gained at least 3 advantages. The advantages are:\n",
    "- Standards\n",
    "- Stability\n",
    "- Updated Actions API\n",
    "- The standards are an advantage because our Test Scripts run more consistently on each browser. All browser vendors have a standard. Since Selenium 4 is compliant with W3C WebDriver, there is no more required encoding and decoding of the request.\n",
    "+ <font color = red> ===> Upgrade selenium 4  </font>"
   ]
  },
  {
   "cell_type": "markdown",
   "metadata": {},
   "source": []
  },
  {
   "cell_type": "markdown",
   "metadata": {},
   "source": []
  }
 ],
 "metadata": {
  "kernelspec": {
   "display_name": "Python 3.9.13 ('base')",
   "language": "python",
   "name": "python3"
  },
  "language_info": {
   "codemirror_mode": {
    "name": "ipython",
    "version": 3
   },
   "file_extension": ".py",
   "mimetype": "text/x-python",
   "name": "python",
   "nbconvert_exporter": "python",
   "pygments_lexer": "ipython3",
   "version": "3.9.13"
  },
  "orig_nbformat": 4,
  "vscode": {
   "interpreter": {
    "hash": "2043299c89c8cd0b4d1a6f5cf4529bd58e6a4e0fe3181a25e0d328c821cdc5c5"
   }
  }
 },
 "nbformat": 4,
 "nbformat_minor": 2
}
