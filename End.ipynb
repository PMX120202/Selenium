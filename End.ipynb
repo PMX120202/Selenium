{
 "cells": [
  {
   "cell_type": "markdown",
   "metadata": {},
   "source": [
    "\n",
    "-  This automation framework is implemented through a browser-specific driver and it can communicate directly with browsers and control them.\n",
    " #### <font color=lightblue > IDE (Integrated Deverlopment Environment) </font>\n",
    "- IDE is the tool you use to develop your Selenium test cases.\n",
    "-  It’s an easy-to-use Chrome and Firefox extension and is generally the most efficient way to develop test cases.\n",
    "- It records the users’ actions in the browser for you, using existing Selenium commands.\n",
    "- If you want to create more advanced test cases, you will need to use either Selenium RC or WebDriver\n",
    "#### <font color=lightblue > Grid </font>\n",
    "- Grid is a part of the Selenium that specializes in running multiple tests across different browsers, operating systems, and machines in parallel.\n",
    "- It is achieved by routing the commands of remote browser instances where a server acts as a hub. A user needs to configure the remote server in order to execute the tests.\n",
    "#### <font color=lightblue > RC (Remotr Control) </font>\n",
    "- Selenium RC was the flagship testing framework of the whole Selenium project for a long time. This is the first automated web testing tool that allows users to use a programming language they prefer.\n",
    "- It supports several programming languages like C#, Java, Perl, Ruby, PHP, Python."
   ]
  },
  {
   "cell_type": "markdown",
   "metadata": {},
   "source": [
    "### <font color=pink > PROS AND CONS  </font>\n",
    "#### <font color=green > WebDriver </font>\n",
    "![a](https://www.guru99.com/images/pros_cons_-_webdriver.jpg)\n",
    "#### <font color=green > IDE (Integrated Deverlopment Environment) </font>\n",
    "![b](https://www.guru99.com/images/SeleniumIDEProCon.png)\n",
    "#### <font color=green > RC (Remotr Control) </font>\n",
    "![c](https://www.guru99.com/images/RCProCon.jpg)\n",
    "#### <font color=green > Grid </font>\n",
    "- Enables simultaneous running of tests in multiple browsers and environments.\n",
    "- Saves time enormously.\n",
    "- Utilizes the hub-and-nodes concept. The hub acts as a central source of Selenium commands to each node connected to it."
   ]
  },
  {
   "cell_type": "markdown",
   "metadata": {},
   "source": []
  },
  {
   "cell_type": "code",
   "execution_count": null,
   "metadata": {},
   "outputs": [],
   "source": []
  }
 ],
 "metadata": {
  "kernelspec": {
   "display_name": "Python 3.10.8 64-bit",
   "language": "python",
   "name": "python3"
  },
  "language_info": {
   "codemirror_mode": {
    "name": "ipython",
    "version": 3
   },
   "file_extension": ".py",
   "mimetype": "text/x-python",
   "name": "python",
   "nbconvert_exporter": "python",
   "pygments_lexer": "ipython3",
   "version": "3.10.8"
  },
  "orig_nbformat": 4,
  "vscode": {
   "interpreter": {
    "hash": "a42ccb73e7d9bfdf27e036f1d2b8b681e55fc0743cc5586bc2474d4a60f4b886"
   }
  }
 },
 "nbformat": 4,
 "nbformat_minor": 2
}
