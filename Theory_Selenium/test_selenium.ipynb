{
 "cells": [
  {
   "cell_type": "code",
   "execution_count": 14,
   "id": "a6678f22-2872-480b-bfb5-49bb13e5be90",
   "metadata": {},
   "outputs": [],
   "source": [
    "from selenium import webdriver\n",
    "from selenium.webdriver.common.by import By\n",
    "from selenium.webdriver.common.keys import Keys\n",
    "from selenium.webdriver.support import expected_conditions as EC\n",
    "from selenium.webdriver.support.wait import WebDriverWait\n",
    "import time\n"
   ]
  },
  {
   "cell_type": "code",
   "execution_count": 15,
   "id": "67d326de-c192-43c3-aabd-903ae10572e7",
   "metadata": {},
   "outputs": [
    {
     "name": "stderr",
     "output_type": "stream",
     "text": [
      "C:\\Users\\T14\\AppData\\Local\\Temp\\ipykernel_13924\\3852528361.py:1: DeprecationWarning: executable_path has been deprecated, please pass in a Service object\n",
      "  browser = webdriver.Edge(\"C:/Users/T14/Desktop/abc/msedgedriver.edge\")\n"
     ]
    }
   ],
   "source": [
    "browser = webdriver.Edge(\"C:/Users/T14/Desktop/abc/msedgedriver.edge\")"
   ]
  },
  {
   "cell_type": "code",
   "execution_count": 6,
   "id": "90848d55-bec6-43e1-a888-1678ed79e09b",
   "metadata": {},
   "outputs": [
    {
     "name": "stdout",
     "output_type": "stream",
     "text": [
      "Wikipedia, the free encyclopedia\n",
      "Python - Search results - Wikipedia\n"
     ]
    }
   ],
   "source": [
    "#send keys\n",
    "try:\n",
    "        browser.get(\"https://en.wikipedia.org\")\n",
    "        print(browser.title)\n",
    "        input=browser.find_element(By.ID,\"searchInput\")\n",
    "        input.send_keys(\"Python\")\n",
    "        input.send_keys(Keys.ENTER)\n",
    "        wait=WebDriverWait(browser,10)\n",
    "        wait.until(EC.presence_of_element_located((By.ID,\"content\")))\n",
    "        print(browser.title)\n",
    "        #print(browser.get_cookies())\n",
    "        #print(browser.page_source)\n",
    "        time.sleep(10)\n",
    "finally:\n",
    "        browser.close()"
   ]
  },
  {
   "cell_type": "code",
   "execution_count": 16,
   "id": "963bdacb-22dd-41ad-8194-26afa49c81f8",
   "metadata": {
    "tags": []
   },
   "outputs": [
    {
     "ename": "NoSuchElementException",
     "evalue": "Message: no such element: Unable to locate element: {\"method\":\"css selector\",\"selector\":\"[id=\"draggable\"]\"}\n  (Session info: MicrosoftEdge=107.0.1418.56)\nStacktrace:\nBacktrace:\n\tMicrosoft::Applications::Events::EventProperties::SetProperty [0x00007FF6F4DE8532+9986]\n\tMicrosoft::Applications::Events::EventProperty::EventProperty [0x00007FF6F4D85D62+1445202]\n\tOrdinal0 [0x00007FF6F496FC8C+654476]\n\tOrdinal0 [0x00007FF6F49B36C2+931522]\n\tOrdinal0 [0x00007FF6F49B3B10+932624]\n\tOrdinal0 [0x00007FF6F49EFC17+1178647]\n\tOrdinal0 [0x00007FF6F49D3BDF+1063903]\n\tOrdinal0 [0x00007FF6F49A5FF4+876532]\n\tOrdinal0 [0x00007FF6F49ECF70+1167216]\n\tOrdinal0 [0x00007FF6F49D39B3+1063347]\n\tOrdinal0 [0x00007FF6F49A506A+872554]\n\tOrdinal0 [0x00007FF6F49A402E+868398]\n\tOrdinal0 [0x00007FF6F49A570F+874255]\n\tMicrosoft::Applications::Events::EventProperty::EventProperty [0x00007FF6F4C46108+135416]\n\tMicrosoft::Applications::Events::EventProperty::EventProperty [0x00007FF6F4C302CF+45759]\n\tMicrosoft::Applications::Events::EventProperty::EventProperty [0x00007FF6F4C3374C+59196]\n\tOrdinal0 [0x00007FF6F4A7B1F4+1749492]\n\tMicrosoft::Applications::Events::EventProperty::EventProperty [0x00007FF6F4D8B65A+1467978]\n\tMicrosoft::Applications::Events::EventProperty::EventProperty [0x00007FF6F4D8FEF4+1486564]\n\tMicrosoft::Applications::Events::EventProperty::EventProperty [0x00007FF6F4D9004D+1486909]\n\tMicrosoft::Applications::Events::EventProperty::EventProperty [0x00007FF6F4D97E0B+1519099]\n\tBaseThreadInitThunk [0x00007FF87ABF74B4+20]\n\tRtlUserThreadStart [0x00007FF87B4C26A1+33]\n",
     "output_type": "error",
     "traceback": [
      "\u001b[1;31m---------------------------------------------------------------------------\u001b[0m",
      "\u001b[1;31mNoSuchElementException\u001b[0m                    Traceback (most recent call last)",
      "\u001b[1;32m~\\AppData\\Local\\Temp\\ipykernel_13924\\3371276832.py\u001b[0m in \u001b[0;36m<module>\u001b[1;34m\u001b[0m\n\u001b[0;32m      4\u001b[0m \u001b[0mbrowser\u001b[0m\u001b[1;33m.\u001b[0m\u001b[0mrefresh\u001b[0m\u001b[1;33m(\u001b[0m\u001b[1;33m)\u001b[0m\u001b[1;33m\u001b[0m\u001b[1;33m\u001b[0m\u001b[0m\n\u001b[0;32m      5\u001b[0m \u001b[1;31m# identifying the source and target elements\u001b[0m\u001b[1;33m\u001b[0m\u001b[1;33m\u001b[0m\u001b[0m\n\u001b[1;32m----> 6\u001b[1;33m \u001b[0msource\u001b[0m\u001b[1;33m=\u001b[0m \u001b[0mbrowser\u001b[0m\u001b[1;33m.\u001b[0m\u001b[0mfind_element\u001b[0m\u001b[1;33m(\u001b[0m\u001b[0mBy\u001b[0m\u001b[1;33m.\u001b[0m\u001b[0mID\u001b[0m\u001b[1;33m,\u001b[0m\u001b[1;34m\"draggable\"\u001b[0m\u001b[1;33m)\u001b[0m\u001b[1;33m;\u001b[0m\u001b[1;33m\u001b[0m\u001b[1;33m\u001b[0m\u001b[0m\n\u001b[0m\u001b[0;32m      7\u001b[0m \u001b[0mtarget\u001b[0m\u001b[1;33m=\u001b[0m \u001b[0mbrowser\u001b[0m\u001b[1;33m.\u001b[0m\u001b[0mfind_element\u001b[0m\u001b[1;33m(\u001b[0m\u001b[0mBy\u001b[0m\u001b[1;33m.\u001b[0m\u001b[0mID\u001b[0m\u001b[1;33m,\u001b[0m\u001b[1;34m\"droppable\"\u001b[0m\u001b[1;33m)\u001b[0m\u001b[1;33m;\u001b[0m\u001b[1;33m\u001b[0m\u001b[1;33m\u001b[0m\u001b[0m\n\u001b[0;32m      8\u001b[0m \u001b[1;31m# action chain object creation\u001b[0m\u001b[1;33m\u001b[0m\u001b[1;33m\u001b[0m\u001b[0m\n",
      "\u001b[1;32m~\\anaconda3\\lib\\site-packages\\selenium\\webdriver\\remote\\webdriver.py\u001b[0m in \u001b[0;36mfind_element\u001b[1;34m(self, by, value)\u001b[0m\n\u001b[0;32m    859\u001b[0m             \u001b[0mvalue\u001b[0m \u001b[1;33m=\u001b[0m \u001b[1;34m'[name=\"%s\"]'\u001b[0m \u001b[1;33m%\u001b[0m \u001b[0mvalue\u001b[0m\u001b[1;33m\u001b[0m\u001b[1;33m\u001b[0m\u001b[0m\n\u001b[0;32m    860\u001b[0m \u001b[1;33m\u001b[0m\u001b[0m\n\u001b[1;32m--> 861\u001b[1;33m         \u001b[1;32mreturn\u001b[0m \u001b[0mself\u001b[0m\u001b[1;33m.\u001b[0m\u001b[0mexecute\u001b[0m\u001b[1;33m(\u001b[0m\u001b[0mCommand\u001b[0m\u001b[1;33m.\u001b[0m\u001b[0mFIND_ELEMENT\u001b[0m\u001b[1;33m,\u001b[0m \u001b[1;33m{\u001b[0m\u001b[1;34m\"using\"\u001b[0m\u001b[1;33m:\u001b[0m \u001b[0mby\u001b[0m\u001b[1;33m,\u001b[0m \u001b[1;34m\"value\"\u001b[0m\u001b[1;33m:\u001b[0m \u001b[0mvalue\u001b[0m\u001b[1;33m}\u001b[0m\u001b[1;33m)\u001b[0m\u001b[1;33m[\u001b[0m\u001b[1;34m\"value\"\u001b[0m\u001b[1;33m]\u001b[0m\u001b[1;33m\u001b[0m\u001b[1;33m\u001b[0m\u001b[0m\n\u001b[0m\u001b[0;32m    862\u001b[0m \u001b[1;33m\u001b[0m\u001b[0m\n\u001b[0;32m    863\u001b[0m     \u001b[1;32mdef\u001b[0m \u001b[0mfind_elements\u001b[0m\u001b[1;33m(\u001b[0m\u001b[0mself\u001b[0m\u001b[1;33m,\u001b[0m \u001b[0mby\u001b[0m\u001b[1;33m=\u001b[0m\u001b[0mBy\u001b[0m\u001b[1;33m.\u001b[0m\u001b[0mID\u001b[0m\u001b[1;33m,\u001b[0m \u001b[0mvalue\u001b[0m\u001b[1;33m:\u001b[0m \u001b[0mOptional\u001b[0m\u001b[1;33m[\u001b[0m\u001b[0mstr\u001b[0m\u001b[1;33m]\u001b[0m \u001b[1;33m=\u001b[0m \u001b[1;32mNone\u001b[0m\u001b[1;33m)\u001b[0m \u001b[1;33m->\u001b[0m \u001b[0mList\u001b[0m\u001b[1;33m[\u001b[0m\u001b[0mWebElement\u001b[0m\u001b[1;33m]\u001b[0m\u001b[1;33m:\u001b[0m\u001b[1;33m\u001b[0m\u001b[1;33m\u001b[0m\u001b[0m\n",
      "\u001b[1;32m~\\anaconda3\\lib\\site-packages\\selenium\\webdriver\\remote\\webdriver.py\u001b[0m in \u001b[0;36mexecute\u001b[1;34m(self, driver_command, params)\u001b[0m\n\u001b[0;32m    442\u001b[0m         \u001b[0mresponse\u001b[0m \u001b[1;33m=\u001b[0m \u001b[0mself\u001b[0m\u001b[1;33m.\u001b[0m\u001b[0mcommand_executor\u001b[0m\u001b[1;33m.\u001b[0m\u001b[0mexecute\u001b[0m\u001b[1;33m(\u001b[0m\u001b[0mdriver_command\u001b[0m\u001b[1;33m,\u001b[0m \u001b[0mparams\u001b[0m\u001b[1;33m)\u001b[0m\u001b[1;33m\u001b[0m\u001b[1;33m\u001b[0m\u001b[0m\n\u001b[0;32m    443\u001b[0m         \u001b[1;32mif\u001b[0m \u001b[0mresponse\u001b[0m\u001b[1;33m:\u001b[0m\u001b[1;33m\u001b[0m\u001b[1;33m\u001b[0m\u001b[0m\n\u001b[1;32m--> 444\u001b[1;33m             \u001b[0mself\u001b[0m\u001b[1;33m.\u001b[0m\u001b[0merror_handler\u001b[0m\u001b[1;33m.\u001b[0m\u001b[0mcheck_response\u001b[0m\u001b[1;33m(\u001b[0m\u001b[0mresponse\u001b[0m\u001b[1;33m)\u001b[0m\u001b[1;33m\u001b[0m\u001b[1;33m\u001b[0m\u001b[0m\n\u001b[0m\u001b[0;32m    445\u001b[0m             \u001b[0mresponse\u001b[0m\u001b[1;33m[\u001b[0m\u001b[1;34m\"value\"\u001b[0m\u001b[1;33m]\u001b[0m \u001b[1;33m=\u001b[0m \u001b[0mself\u001b[0m\u001b[1;33m.\u001b[0m\u001b[0m_unwrap_value\u001b[0m\u001b[1;33m(\u001b[0m\u001b[0mresponse\u001b[0m\u001b[1;33m.\u001b[0m\u001b[0mget\u001b[0m\u001b[1;33m(\u001b[0m\u001b[1;34m\"value\"\u001b[0m\u001b[1;33m,\u001b[0m \u001b[1;32mNone\u001b[0m\u001b[1;33m)\u001b[0m\u001b[1;33m)\u001b[0m\u001b[1;33m\u001b[0m\u001b[1;33m\u001b[0m\u001b[0m\n\u001b[0;32m    446\u001b[0m             \u001b[1;32mreturn\u001b[0m \u001b[0mresponse\u001b[0m\u001b[1;33m\u001b[0m\u001b[1;33m\u001b[0m\u001b[0m\n",
      "\u001b[1;32m~\\anaconda3\\lib\\site-packages\\selenium\\webdriver\\remote\\errorhandler.py\u001b[0m in \u001b[0;36mcheck_response\u001b[1;34m(self, response)\u001b[0m\n\u001b[0;32m    247\u001b[0m                 \u001b[0malert_text\u001b[0m \u001b[1;33m=\u001b[0m \u001b[0mvalue\u001b[0m\u001b[1;33m[\u001b[0m\u001b[1;34m\"alert\"\u001b[0m\u001b[1;33m]\u001b[0m\u001b[1;33m.\u001b[0m\u001b[0mget\u001b[0m\u001b[1;33m(\u001b[0m\u001b[1;34m\"text\"\u001b[0m\u001b[1;33m)\u001b[0m\u001b[1;33m\u001b[0m\u001b[1;33m\u001b[0m\u001b[0m\n\u001b[0;32m    248\u001b[0m             \u001b[1;32mraise\u001b[0m \u001b[0mexception_class\u001b[0m\u001b[1;33m(\u001b[0m\u001b[0mmessage\u001b[0m\u001b[1;33m,\u001b[0m \u001b[0mscreen\u001b[0m\u001b[1;33m,\u001b[0m \u001b[0mstacktrace\u001b[0m\u001b[1;33m,\u001b[0m \u001b[0malert_text\u001b[0m\u001b[1;33m)\u001b[0m  \u001b[1;31m# type: ignore[call-arg]  # mypy is not smart enough here\u001b[0m\u001b[1;33m\u001b[0m\u001b[1;33m\u001b[0m\u001b[0m\n\u001b[1;32m--> 249\u001b[1;33m         \u001b[1;32mraise\u001b[0m \u001b[0mexception_class\u001b[0m\u001b[1;33m(\u001b[0m\u001b[0mmessage\u001b[0m\u001b[1;33m,\u001b[0m \u001b[0mscreen\u001b[0m\u001b[1;33m,\u001b[0m \u001b[0mstacktrace\u001b[0m\u001b[1;33m)\u001b[0m\u001b[1;33m\u001b[0m\u001b[1;33m\u001b[0m\u001b[0m\n\u001b[0m",
      "\u001b[1;31mNoSuchElementException\u001b[0m: Message: no such element: Unable to locate element: {\"method\":\"css selector\",\"selector\":\"[id=\"draggable\"]\"}\n  (Session info: MicrosoftEdge=107.0.1418.56)\nStacktrace:\nBacktrace:\n\tMicrosoft::Applications::Events::EventProperties::SetProperty [0x00007FF6F4DE8532+9986]\n\tMicrosoft::Applications::Events::EventProperty::EventProperty [0x00007FF6F4D85D62+1445202]\n\tOrdinal0 [0x00007FF6F496FC8C+654476]\n\tOrdinal0 [0x00007FF6F49B36C2+931522]\n\tOrdinal0 [0x00007FF6F49B3B10+932624]\n\tOrdinal0 [0x00007FF6F49EFC17+1178647]\n\tOrdinal0 [0x00007FF6F49D3BDF+1063903]\n\tOrdinal0 [0x00007FF6F49A5FF4+876532]\n\tOrdinal0 [0x00007FF6F49ECF70+1167216]\n\tOrdinal0 [0x00007FF6F49D39B3+1063347]\n\tOrdinal0 [0x00007FF6F49A506A+872554]\n\tOrdinal0 [0x00007FF6F49A402E+868398]\n\tOrdinal0 [0x00007FF6F49A570F+874255]\n\tMicrosoft::Applications::Events::EventProperty::EventProperty [0x00007FF6F4C46108+135416]\n\tMicrosoft::Applications::Events::EventProperty::EventProperty [0x00007FF6F4C302CF+45759]\n\tMicrosoft::Applications::Events::EventProperty::EventProperty [0x00007FF6F4C3374C+59196]\n\tOrdinal0 [0x00007FF6F4A7B1F4+1749492]\n\tMicrosoft::Applications::Events::EventProperty::EventProperty [0x00007FF6F4D8B65A+1467978]\n\tMicrosoft::Applications::Events::EventProperty::EventProperty [0x00007FF6F4D8FEF4+1486564]\n\tMicrosoft::Applications::Events::EventProperty::EventProperty [0x00007FF6F4D9004D+1486909]\n\tMicrosoft::Applications::Events::EventProperty::EventProperty [0x00007FF6F4D97E0B+1519099]\n\tBaseThreadInitThunk [0x00007FF87ABF74B4+20]\n\tRtlUserThreadStart [0x00007FF87B4C26A1+33]\n"
     ]
    }
   ],
   "source": [
    "#drop and drag\n",
    "browser.get(\"https://jqueryui.com/droppable/\")\n",
    "#to refresh the browser\n",
    "browser.refresh()\n",
    "# identifying the source and target elements\n",
    "source= browser.find_element(By.ID,\"draggable\");\n",
    "target= browser.find_element(By.ID,\"droppable\");\n",
    "# action chain object creation\n",
    "action = ActionChains(driver)\n",
    "# drag and drop operation and the perform\n",
    "action.drag_and_drop(source, target).perform()\n",
    "browser.close()\n",
    "  "
   ]
  },
  {
   "cell_type": "code",
   "execution_count": 3,
   "id": "babab877-2431-460b-85e1-b5f0c5214543",
   "metadata": {},
   "outputs": [],
   "source": [
    "#take screenshot\n",
    "\n",
    "import selenium\n",
    "\n",
    "from selenium import webdriver\n",
    "\n",
    "import time\n",
    "\n",
    "from time import sleep\n",
    "\n",
    "chrome_browser = webdriver.Chrome()\n",
    "\n",
    "chrome_browser.get('https://www.facebook.com/') \n",
    "\n",
    "sleep(5)\n",
    "\n",
    "chrome_browser.save_screenshot('C:/Users/T14/Desktop/abc/demo.png') \n",
    "\n",
    "chrome_browser.close() \n",
    "\n",
    "chrome_browser.quit() "
   ]
  },
  {
   "cell_type": "code",
   "execution_count": null,
   "id": "dd714c1b-99b1-42dd-9b8d-b4825930f54b",
   "metadata": {},
   "outputs": [],
   "source": []
  }
 ],
 "metadata": {
  "kernelspec": {
   "display_name": "Python 3 (ipykernel)",
   "language": "python",
   "name": "python3"
  },
  "language_info": {
   "codemirror_mode": {
    "name": "ipython",
    "version": 3
   },
   "file_extension": ".py",
   "mimetype": "text/x-python",
   "name": "python",
   "nbconvert_exporter": "python",
   "pygments_lexer": "ipython3",
   "version": "3.9.13"
  }
 },
 "nbformat": 4,
 "nbformat_minor": 5
}
