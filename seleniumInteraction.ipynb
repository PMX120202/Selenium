{
 "cells": [
  {
   "cell_type": "markdown",
   "id": "6aa82415-55a6-4f1c-bace-ec01bc6bb6ef",
   "metadata": {
    "tags": []
   },
   "source": [
    "# I/ Selenium Interactions"
   ]
  },
  {
   "cell_type": "markdown",
   "id": "7701e19f-dfe5-4f14-97b7-6d25f4cb42fd",
   "metadata": {
    "tags": []
   },
   "source": [
    "## 1.Frame"
   ]
  },
  {
   "cell_type": "markdown",
   "id": "83f93a00-8133-4abe-af11-04f2e00c6d81",
   "metadata": {
    "tags": []
   },
   "source": [
    "### Working with iFrames and frames"
   ]
  },
  {
   "cell_type": "markdown",
   "id": "01381736-5953-4fbf-9250-559bb5d134ab",
   "metadata": {
    "tags": []
   },
   "source": [
    "- Frames are a now deprecated means of building a site layout from multiple documents on the same domain.\n",
    "- Iframes allow the insertion of a document from an entirely different domain, and are still commonly used.\n",
    "- If you need to work with frames or iframes, WebDriver allows you to work with them in the same way. Consider a button within an iframe. If we inspect the element using the browser development tools, we might see the following:"
   ]
  },
  {
   "cell_type": "code",
   "execution_count": null,
   "id": "16b119f5-5391-44eb-b3a4-2204932669d4",
   "metadata": {},
   "outputs": [],
   "source": [
    "<div id=\"modal\">\n",
    "  <iframe id=\"buttonframe\" name=\"myframe\"  src=\"https://seleniumhq.github.io\">\n",
    "   <button>Click here</button>\n",
    " </iframe>\n",
    "</div>"
   ]
  },
  {
   "cell_type": "markdown",
   "id": "a48c4039-dcf7-4ead-a3b2-ad9f2a8bb84f",
   "metadata": {},
   "source": [
    "+ If it was not for the iframe we would expect to click on the button using something like:"
   ]
  },
  {
   "cell_type": "code",
   "execution_count": null,
   "id": "fbbb1627-ac6a-498f-97e9-4d9cc4685c3a",
   "metadata": {},
   "outputs": [],
   "source": [
    "    # This Wont work\n",
    "driver.find_element(By.TAG_NAME, 'button').click()\n",
    "  "
   ]
  },
  {
   "cell_type": "markdown",
   "id": "102cc51e-5b88-4293-a7b1-777a6819d16a",
   "metadata": {},
   "source": [
    "+ If a button is inside of an iframe, you might get an element error because Selenium only knows the elements in the top level document. \n",
    "+ To interact with the button, we will need to first switch to the frame, in a similar way to how we switch windows.. \n",
    "+ WebDriver offers three ways of switching to a frame."
   ]
  },
  {
   "cell_type": "markdown",
   "id": "76befdb6-11e1-4bd8-bf7d-c35a641f4f44",
   "metadata": {},
   "source": [
    "#### 1. Using a WebElement"
   ]
  },
  {
   "cell_type": "markdown",
   "id": "06bdcb1e-081d-4d30-8e0a-2e112aa6e53c",
   "metadata": {},
   "source": [
    "+ Switching using a WebElement is the most flexible option. \n",
    "+ You can find the frame using your preferred selector and switch to it."
   ]
  },
  {
   "cell_type": "code",
   "execution_count": null,
   "id": "db998a67-9d82-4057-a61c-ed9324de086a",
   "metadata": {},
   "outputs": [],
   "source": [
    "    # Store iframe web element\n",
    "iframe = driver.find_element(By.CSS_SELECTOR, \"#modal > iframe\")\n",
    "\n",
    "    # switch to selected iframe\n",
    "driver.switch_to.frame(iframe)\n",
    "\n",
    "    # Now click on button\n",
    "driver.find_element(By.TAG_NAME, 'button').click()"
   ]
  },
  {
   "cell_type": "markdown",
   "id": "14dd8449-f871-4d20-81f7-c9af005f7538",
   "metadata": {},
   "source": [
    "#### 2. Using a name or ID"
   ]
  },
  {
   "cell_type": "markdown",
   "id": "cfd7c32f-06af-4f18-bd8b-c4c34e4dfb91",
   "metadata": {},
   "source": [
    "+ If your frame or iframe has an id or name attribute, this can be used instead. If the name or ID is not unique on the page, then the first one found will be switched to."
   ]
  },
  {
   "cell_type": "code",
   "execution_count": null,
   "id": "53b1f49b-021b-4d83-9651-ef7b752a26f8",
   "metadata": {},
   "outputs": [],
   "source": [
    "    # Switch frame by id\n",
    "driver.switch_to.frame('buttonframe')\n",
    "\n",
    "    # Now, Click on the button\n",
    "driver.find_element(By.TAG_NAME, 'button').click()"
   ]
  },
  {
   "cell_type": "markdown",
   "id": "c098be7d-4d81-42e7-828a-73eeeb24e7fc",
   "metadata": {},
   "source": [
    "#### 3. Using an index"
   ]
  },
  {
   "cell_type": "code",
   "execution_count": null,
   "id": "6426e242-b359-4888-8584-960dc2e4e229",
   "metadata": {},
   "outputs": [],
   "source": [
    "    # switching to second iframe based on index\n",
    "iframe = driver.find_elements(By.TAG_NAME,'iframe')[1]\n",
    "\n",
    "    # switch to selected iframe\n",
    "driver.switch_to.frame(iframe)\n",
    "  "
   ]
  },
  {
   "cell_type": "markdown",
   "id": "90235a52-920d-4820-83f7-e8e5ff3be652",
   "metadata": {
    "tags": []
   },
   "source": [
    "#### 4. Leaving a frame"
   ]
  },
  {
   "cell_type": "markdown",
   "id": "e7d38d52-c6b8-4160-b683-1ced3b69e28f",
   "metadata": {},
   "source": [
    "+ To leave an iframe or frameset, switch back to the default content like so:"
   ]
  },
  {
   "cell_type": "code",
   "execution_count": null,
   "id": "16c3ac30-1782-46ef-9a2e-de4b62b7a92b",
   "metadata": {},
   "outputs": [],
   "source": [
    "    # switch back to default content\n",
    "driver.switch_to.default_content()\n",
    "  "
   ]
  },
  {
   "cell_type": "markdown",
   "id": "caf8d5f9-a425-4c63-a5a7-f3424130b6e4",
   "metadata": {
    "tags": []
   },
   "source": [
    "## 2. Working with windows and tabs"
   ]
  },
  {
   "cell_type": "markdown",
   "id": "879cd243-1112-44ff-8890-d9705ab0c806",
   "metadata": {},
   "source": [
    "### Windows and tabs"
   ]
  },
  {
   "cell_type": "markdown",
   "id": "26be71a7-0cc2-4029-b8b4-20b4b1b9e060",
   "metadata": {},
   "source": [
    "#### 1. Get window handle"
   ]
  },
  {
   "cell_type": "markdown",
   "id": "821a4524-fcf2-47d2-9bd0-c4e4619c749f",
   "metadata": {},
   "source": [
    "+ WebDriver does not make the distinction between windows and tabs. If your site opens a new tab or window, Selenium will let you work with it using a window handle. \n",
    "+ Each window has a unique identifier which remains persistent in a single session. \n",
    "+ You can get the window handle of the current window by using:"
   ]
  },
  {
   "cell_type": "code",
   "execution_count": null,
   "id": "f68e49fe-53e4-4658-90b3-6338300b609a",
   "metadata": {},
   "outputs": [],
   "source": [
    "driver.current_window_handle"
   ]
  },
  {
   "cell_type": "markdown",
   "id": "926e8005-44d5-433a-a637-1a470c6d2ce4",
   "metadata": {
    "jp-MarkdownHeadingCollapsed": true,
    "tags": []
   },
   "source": [
    "#### 2. Switching windows or tabs "
   ]
  },
  {
   "cell_type": "markdown",
   "id": "537ddd16-ad9d-4113-9a09-b6e4a2c4f1fe",
   "metadata": {},
   "source": [
    "+ If you have only two tabs or windows open, and you know which window you start with, by the process of elimination you can loop over both windows or tabs that WebDriver can see, and switch to the one which is not the original.\n",
    "\n",
    "+ However, Selenium 4 provides a new api NewWindow which creates a new tab (or) new window and automatically switches to it."
   ]
  },
  {
   "cell_type": "code",
   "execution_count": null,
   "id": "e5798bf3-c15c-4085-96cf-60382be5f1f0",
   "metadata": {},
   "outputs": [],
   "source": [
    "from selenium import webdriver\n",
    "from selenium.webdriver.support.ui import WebDriverWait\n",
    "from selenium.webdriver.support import expected_conditions as EC\n",
    "\n",
    "with webdriver.Firefox() as driver:\n",
    "    # Open URL\n",
    "    driver.get(\"https://seleniumhq.github.io\")\n",
    "\n",
    "    # Setup wait for later\n",
    "    wait = WebDriverWait(driver, 10)\n",
    "\n",
    "    # Store the ID of the original window\n",
    "    original_window = driver.current_window_handle\n",
    "\n",
    "    # Check we don't have other windows open already\n",
    "    assert len(driver.window_handles) == 1\n",
    "\n",
    "    # Click the link which opens in a new window\n",
    "    driver.find_element(By.LINK_TEXT, \"new window\").click()\n",
    "\n",
    "    # Wait for the new window or tab\n",
    "    wait.until(EC.number_of_windows_to_be(2))\n",
    "\n",
    "    # Loop through until we find a new window handle\n",
    "    for window_handle in driver.window_handles:\n",
    "        if window_handle != original_window:\n",
    "            driver.switch_to.window(window_handle)\n",
    "            break\n",
    "\n",
    "    # Wait for the new tab to finish loading content\n",
    "    wait.until(EC.title_is(\"SeleniumHQ Browser Automation\"))\n",
    "  "
   ]
  },
  {
   "cell_type": "markdown",
   "id": "6979ba5d-16f2-4765-b070-847fc4f70e3b",
   "metadata": {},
   "source": [
    "#### 3. Create new window (or) new tab and switch"
   ]
  },
  {
   "cell_type": "markdown",
   "id": "b17a25ab-c9d5-42eb-9099-04c987e3aa44",
   "metadata": {},
   "source": [
    "+ Creates a new window (or) tab and will focus the new window or tab on screen. You don’t need to switch to work with the new window (or) tab. If you have more than two windows (or) tabs opened other than the new window, you can loop over both windows or tabs that WebDriver can see, and switch to the one which is not the original.\n",
    "\n",
    "Note: This feature works with Selenium 4 and later versions."
   ]
  },
  {
   "cell_type": "code",
   "execution_count": null,
   "id": "7849611e-4945-4a7b-847b-b80ea350645b",
   "metadata": {},
   "outputs": [],
   "source": [
    " # Opens a new tab and switches to new tab\n",
    "driver.switch_to.new_window('tab')\n",
    "\n",
    "    # Opens a new window and switches to new window\n",
    "driver.switch_to.new_window('window')"
   ]
  },
  {
   "cell_type": "markdown",
   "id": "52c0caca-4adf-483d-8cdd-91655a7f4d23",
   "metadata": {},
   "source": [
    "#### 4. Closing a window or tab"
   ]
  },
  {
   "cell_type": "markdown",
   "id": "79537067-2a8c-4d44-a5e7-288cf0b54b40",
   "metadata": {},
   "source": [
    "+ When you are finished with a window or tab and it is not the last window or tab open in your browser, you should close it and switch back to the window you were using previously."
   ]
  },
  {
   "cell_type": "code",
   "execution_count": null,
   "id": "8f416eee-99bd-42c5-a33d-346b5c623727",
   "metadata": {},
   "outputs": [],
   "source": [
    "  #Close the tab or window\n",
    "driver.close()\n",
    "\n",
    "    #Switch back to the old tab or window\n",
    "driver.switch_to.window(original_window)\n",
    "  "
   ]
  },
  {
   "cell_type": "markdown",
   "id": "db749d4e-2d3a-4e4c-9a0f-e694eb8425b0",
   "metadata": {},
   "source": [
    "+ Forgetting to switch back to another window handle after closing a window will leave WebDriver executing on the now closed page, and will trigger a No Such Window Exception. You must switch back to a valid window handle in order to continue execution"
   ]
  },
  {
   "cell_type": "markdown",
   "id": "737d747c-25be-4797-98db-3614de1dc657",
   "metadata": {},
   "source": [
    "#### 5. Quitting the browser at the end of a session"
   ]
  },
  {
   "cell_type": "code",
   "execution_count": null,
   "id": "96b4fd0d-553e-467f-b4a5-80fe00d48dd8",
   "metadata": {},
   "outputs": [],
   "source": [
    "driver.quit()"
   ]
  },
  {
   "cell_type": "markdown",
   "id": "98933fae-11d6-4d56-8560-aed7162e02a7",
   "metadata": {},
   "source": [
    "Quit will:\n",
    "+ Close all the windows and tabs associated with that WebDriver session \n",
    "+ Close the browser process\n",
    "+ Close the background driver process\n",
    "+ Notify Selenium Grid that the browser is no longer in use so it can be used by another session (if you are using Selenium Grid)"
   ]
  },
  {
   "cell_type": "markdown",
   "id": "1a0b5204-acec-4048-8dbe-74367d1b9181",
   "metadata": {},
   "source": [
    "### Window management"
   ]
  },
  {
   "cell_type": "markdown",
   "id": "19b5227f-1a77-417e-9713-a9b66529ddaa",
   "metadata": {},
   "source": [
    "Screen resolution can impact how your web application renders, so WebDriver provides mechanisms for moving and resizing the browser window"
   ]
  },
  {
   "cell_type": "markdown",
   "id": "d5016966-eeb2-4db0-abc6-ec34106082ce",
   "metadata": {},
   "source": [
    "#### 1. Get window size"
   ]
  },
  {
   "cell_type": "markdown",
   "id": "d1a65dec-7983-47ef-a956-063f0278cd0f",
   "metadata": {},
   "source": [
    "Fetches the size of the browser window in pixels."
   ]
  },
  {
   "cell_type": "code",
   "execution_count": null,
   "id": "b3451172-8fd6-4560-a8ad-c5609f75291c",
   "metadata": {},
   "outputs": [],
   "source": [
    "    # Access each dimension individually\n",
    "width = driver.get_window_size().get(\"width\")\n",
    "height = driver.get_window_size().get(\"height\")\n",
    "\n",
    "    # Or store the dimensions and query them later\n",
    "size = driver.get_window_size()\n",
    "width1 = size.get(\"width\")\n",
    "height1 = size.get(\"height\")\n",
    "  "
   ]
  },
  {
   "cell_type": "markdown",
   "id": "1238408f-b617-4a36-b887-b53fc432368d",
   "metadata": {},
   "source": [
    "#### 2. Set window size"
   ]
  },
  {
   "cell_type": "markdown",
   "id": "3360271a-927c-4367-98ab-29996e4bd159",
   "metadata": {},
   "source": [
    "Restores the window and sets the window size."
   ]
  },
  {
   "cell_type": "code",
   "execution_count": null,
   "id": "539c1858-26d8-47da-84df-3b260c2da7e9",
   "metadata": {},
   "outputs": [],
   "source": [
    "driver.set_window_size(1024, 768)"
   ]
  },
  {
   "cell_type": "markdown",
   "id": "07fc0e96-3305-4ec1-8b50-64fbbd9f0213",
   "metadata": {},
   "source": [
    "#### 3. Get window position "
   ]
  },
  {
   "cell_type": "markdown",
   "id": "54bb1225-b3d0-4134-bb6c-7a674034b1eb",
   "metadata": {},
   "source": [
    "Fetches the coordinates of the top left coordinate of the browser window."
   ]
  },
  {
   "cell_type": "code",
   "execution_count": null,
   "id": "bf028b40-f7d6-4be6-944e-4e4c91628b01",
   "metadata": {},
   "outputs": [],
   "source": [
    "    # Access each dimension individually\n",
    "x = driver.get_window_position().get('x')\n",
    "y = driver.get_window_position().get('y')\n",
    "\n",
    "    # Or store the dimensions and query them later\n",
    "position = driver.get_window_position()\n",
    "x1 = position.get('x')\n",
    "y1 = position.get('y')\n",
    "  "
   ]
  },
  {
   "cell_type": "markdown",
   "id": "5c15974f-42bb-4047-a388-28d8ad00a10e",
   "metadata": {},
   "source": [
    "### Set window position"
   ]
  },
  {
   "cell_type": "markdown",
   "id": "04b9d20f-9c90-4fe9-af8e-4a3ed4e5c49c",
   "metadata": {},
   "source": [
    "Moves the window to the chosen position."
   ]
  },
  {
   "cell_type": "code",
   "execution_count": null,
   "id": "ef4e4c2b-4289-4a2e-bab2-a230c028fab0",
   "metadata": {},
   "outputs": [],
   "source": [
    "    # Move the window to the top left of the primary monitor\n",
    "driver.set_window_position(0, 0)\n",
    "  "
   ]
  },
  {
   "cell_type": "markdown",
   "id": "de55d99e-6142-40b2-9902-a44c0795c3e4",
   "metadata": {},
   "source": [
    "#### 1. Maximize window"
   ]
  },
  {
   "cell_type": "markdown",
   "id": "b79964a7-cecd-46a3-b464-64ad7b0f9acb",
   "metadata": {},
   "source": [
    "+ Enlarges the window. without blocking the operating system’s own menus and toolbars."
   ]
  },
  {
   "cell_type": "code",
   "execution_count": null,
   "id": "ca6f0f07-16d7-48e2-a165-c2eb498f3aca",
   "metadata": {},
   "outputs": [],
   "source": [
    "driver.manage.window.maximize"
   ]
  },
  {
   "cell_type": "markdown",
   "id": "77b694d6-4978-4f89-97e6-818dc72fa007",
   "metadata": {},
   "source": [
    "#### 2. Minimize window"
   ]
  },
  {
   "cell_type": "markdown",
   "id": "9cf138ec-6e09-4e55-9568-b15adefee2ae",
   "metadata": {},
   "source": [
    "+ Minimizes the window of current browsing context.\n",
    "+ Note: This feature works with Selenium 4 and later versions."
   ]
  },
  {
   "cell_type": "code",
   "execution_count": null,
   "id": "37045686-6a92-4d4b-be01-4e270eb8eeb3",
   "metadata": {},
   "outputs": [],
   "source": [
    "driver.manage.window.minimize"
   ]
  },
  {
   "cell_type": "markdown",
   "id": "82a693ee-4542-4967-87ae-acd8ca19910c",
   "metadata": {},
   "source": [
    "#### 3. Fullscreen window"
   ]
  },
  {
   "cell_type": "markdown",
   "id": "20c3a350-8f79-4114-87f3-4a1e321324c2",
   "metadata": {},
   "source": [
    "Fills the entire screen, similar to pressing F11 in most browsers."
   ]
  },
  {
   "cell_type": "code",
   "execution_count": null,
   "id": "85ca1093-fa1a-443f-ab7c-855b5bca5699",
   "metadata": {},
   "outputs": [],
   "source": [
    "driver.manage.window.full_screen"
   ]
  },
  {
   "cell_type": "markdown",
   "id": "dc16ae2f-fe25-477b-8c59-6da1d0d4b6ca",
   "metadata": {},
   "source": [
    "#### 4. TakeScreenshot"
   ]
  },
  {
   "cell_type": "markdown",
   "id": "2dc4ea06-1784-4801-8555-db3fd8f2db39",
   "metadata": {},
   "source": [
    "Used to capture screenshot for current browsing context. The WebDriver endpoint screenshot returns screenshot which is encoded in Base64 format."
   ]
  },
  {
   "cell_type": "code",
   "execution_count": null,
   "id": "d2c399a7-e700-4669-a9cb-a3e26d545ec5",
   "metadata": {},
   "outputs": [],
   "source": [
    "require 'selenium-webdriver'\n",
    "driver = Selenium::WebDriver.for :chrome\n",
    "\n",
    "begin\n",
    "  driver.get 'https://example.com/'\n",
    "\n",
    "    # Takes and Stores the screenshot in specified path\n",
    "  driver.save_screenshot('./image.png')\n",
    "\n",
    "end"
   ]
  },
  {
   "cell_type": "markdown",
   "id": "467d3d0b-c9c1-453a-84d0-b4ddb027624e",
   "metadata": {},
   "source": [
    "#### 5. TakeElementScreenshot"
   ]
  },
  {
   "cell_type": "markdown",
   "id": "32c699b7-f5f5-45b8-8748-43fab35fc7f3",
   "metadata": {},
   "source": [
    "Used to capture screenshot of an element for current browsing context. The WebDriver endpoint screenshot returns screenshot which is encoded in Base64 format."
   ]
  },
  {
   "cell_type": "code",
   "execution_count": null,
   "id": "db79d98a-b732-421c-949f-89c341b70596",
   "metadata": {},
   "outputs": [],
   "source": [
    "    # Works with Selenium4-alpha7 Ruby bindings and above\n",
    "require 'selenium-webdriver'\n",
    "driver = Selenium::WebDriver.for :chrome\n",
    "\n",
    "begin\n",
    "  driver.get 'https://example.com/'\n",
    "  ele = driver.find_element(:css, 'h1')\n",
    "\n",
    "    # Takes and Stores the element screenshot in specified path\n",
    "  ele.save_screenshot('./image.jpg')\n",
    "end\n",
    "  "
   ]
  },
  {
   "cell_type": "markdown",
   "id": "b8205d1b-4531-414b-848e-f82d1b79f134",
   "metadata": {},
   "source": [
    "#### 6. Execute Script"
   ]
  },
  {
   "cell_type": "markdown",
   "id": "d8d07000-f1b9-4a3e-92d0-34231471f7d4",
   "metadata": {},
   "source": [
    "Executes JavaScript code snippet in the current context of a selected frame or window."
   ]
  },
  {
   "cell_type": "code",
   "execution_count": null,
   "id": "47db2edb-64b4-4ea5-9446-1f34844e4ec1",
   "metadata": {},
   "outputs": [],
   "source": [
    "    # Stores the header element\n",
    "header = driver.find_element(css: 'h1')\n",
    "\n",
    "    # Get return value from script\n",
    "result = driver.execute_script(\"return arguments[0].innerText\", header)\n",
    "\n",
    "    # Executing JavaScript directly\n",
    "driver.execute_script(\"alert('hello world')\")\n",
    "  "
   ]
  },
  {
   "cell_type": "markdown",
   "id": "f540037a-6581-4575-a330-a2df2a52dcf0",
   "metadata": {},
   "source": [
    "#### 7. Print Page"
   ]
  },
  {
   "cell_type": "markdown",
   "id": "35bf62fa-6b5e-41b7-95e7-64c40b2ce531",
   "metadata": {},
   "source": [
    "Prints the current page within the browser.\n",
    "\n",
    "Note: This requires Chromium Browsers to be in headless mode"
   ]
  },
  {
   "cell_type": "code",
   "execution_count": null,
   "id": "15912f35-fbf7-4419-b5ca-6523e3d3473f",
   "metadata": {},
   "outputs": [],
   "source": [
    "    driver.navigate_to 'https://www.selenium.dev'\n",
    "\n",
    "    base64encodedContent = driver.print_page(orientation: 'landscape')\n",
    "  "
   ]
  },
  {
   "cell_type": "markdown",
   "id": "8db851bd-e676-42d9-baa0-90421d5e5945",
   "metadata": {
    "tags": []
   },
   "source": [
    "# II/ Actions API"
   ]
  },
  {
   "cell_type": "markdown",
   "id": "ffbf4349-e54a-4fbc-a3dd-355e44ba0a47",
   "metadata": {},
   "source": [
    "+ A low-level interface for providing virtualized device input actions to the web browser. \n",
    "+ The Actions API allows granular control over exactly what designated input devices can do."
   ]
  },
  {
   "cell_type": "markdown",
   "id": "c3277d2f-04cf-4853-9f72-0e75b78cb70a",
   "metadata": {
    "jp-MarkdownHeadingCollapsed": true,
    "tags": []
   },
   "source": [
    "## 1. Pause"
   ]
  },
  {
   "cell_type": "markdown",
   "id": "7cb63ef2-4fba-476d-85ac-0974e25591ea",
   "metadata": {},
   "source": [
    "Pointer movements and Wheel scrolling allow the user to set a duration for the action, but sometimes you just need to wait a beat between actions for things to work correctly."
   ]
  },
  {
   "cell_type": "code",
   "execution_count": null,
   "id": "1b3a1dc2-b4fc-4aaf-bb74-bb50b60efb9c",
   "metadata": {},
   "outputs": [],
   "source": [
    "    clickable = driver.find_element(By.ID, \"clickable\")\n",
    "    ActionChains(driver)\\\n",
    "        .move_to_element(clickable)\\\n",
    "        .pause(1)\\\n",
    "        .click_and_hold()\\\n",
    "        .pause(1)\\\n",
    "        .send_keys(\"abc\")\\\n",
    "        .perform()"
   ]
  },
  {
   "cell_type": "markdown",
   "id": "a36ad85b-7c83-49cb-8cfd-16b0a2bc3edc",
   "metadata": {
    "jp-MarkdownHeadingCollapsed": true,
    "tags": []
   },
   "source": [
    "## 2. Release All Actions"
   ]
  },
  {
   "cell_type": "code",
   "execution_count": null,
   "id": "af3651ce-5227-4da7-a65b-df6f325bc199",
   "metadata": {},
   "outputs": [],
   "source": [
    "ActionBuilder(driver).clear_actions()"
   ]
  },
  {
   "cell_type": "markdown",
   "id": "0297034d-6505-4c98-b0f1-31102ab28b00",
   "metadata": {
    "tags": []
   },
   "source": [
    "## 3. Keyboard actions"
   ]
  },
  {
   "cell_type": "markdown",
   "id": "b9e320b0-5d62-456b-a96b-588d9c66e340",
   "metadata": {},
   "source": [
    "+ A representation of any key input device for interacting with a web page.\n",
    "+ In addition to supporting ASCII characters, each keyboard key has a representation that can be pressed or released in designated sequences"
   ]
  },
  {
   "cell_type": "markdown",
   "id": "70f7dfbb-72e0-4f07-b8c1-f1d3b8831a5d",
   "metadata": {},
   "source": [
    "#### 1. Keys"
   ]
  },
  {
   "cell_type": "markdown",
   "id": "75ec37e4-9c5c-4490-86fe-5859f8618565",
   "metadata": {},
   "source": [
    "In addition to the keys represented by regular unicode, unicode values have been assigned to other keyboard keys for use with Selenium. Each language has its own way to reference these keys; the full list can be found https://www.w3.org/TR/webdriver/#keyboard-actions."
   ]
  },
  {
   "cell_type": "markdown",
   "id": "6c3552a8-ea8e-429c-8fcc-6f2d60ce5f56",
   "metadata": {},
   "source": [
    "#### 2. Keys down"
   ]
  },
  {
   "cell_type": "code",
   "execution_count": null,
   "id": "0f0dfaa8-8a7a-4ec9-9110-882ca1bc432d",
   "metadata": {},
   "outputs": [],
   "source": [
    "    ActionChains(driver)\\\n",
    "        .key_down(Keys.SHIFT)\\\n",
    "        .send_keys(\"abc\")\\\n",
    "        .perform()"
   ]
  },
  {
   "cell_type": "markdown",
   "id": "ce06e747-bba6-4748-a641-db8c3b69e244",
   "metadata": {},
   "source": [
    "#### 3.Keys up"
   ]
  },
  {
   "cell_type": "code",
   "execution_count": null,
   "id": "a8f41f58-cef3-4779-b34d-9dffa93613a0",
   "metadata": {},
   "outputs": [],
   "source": [
    "    ActionChains(driver)\\\n",
    "        .key_down(Keys.SHIFT)\\\n",
    "        .send_keys(\"a\")\\\n",
    "        .key_up(Keys.SHIFT)\\\n",
    "        .send_keys(\"b\")\\\n",
    "        .perform()"
   ]
  },
  {
   "cell_type": "markdown",
   "id": "fadfec03-8fb3-457a-a82d-3ca79cc7dfb9",
   "metadata": {},
   "source": [
    "#### 4. Send keys"
   ]
  },
  {
   "cell_type": "markdown",
   "id": "6d2830a1-7cac-4069-afc6-3f9a25e5c375",
   "metadata": {},
   "source": [
    "This is a convenience method in the Actions API that combines keyDown and keyUp commands in one action.\n",
    "Executing this command differs slightly from using the element method, but primarily this gets used when needing to type multiple characters in the middle of other actions"
   ]
  },
  {
   "cell_type": "markdown",
   "id": "7d2e7930-48f6-48f2-a9f9-da11244b5230",
   "metadata": {
    "tags": []
   },
   "source": [
    "+ Active Element"
   ]
  },
  {
   "cell_type": "code",
   "execution_count": null,
   "id": "b9f61eb1-ff32-46b9-a1bb-a79872dca47c",
   "metadata": {},
   "outputs": [],
   "source": [
    "    ActionChains(driver)\\\n",
    "        .send_keys(\"abc\")\\\n",
    "        .perform()"
   ]
  },
  {
   "cell_type": "markdown",
   "id": "1263c549-61ef-49f9-ade9-92a3dde1c258",
   "metadata": {},
   "source": [
    "+ Designated Element"
   ]
  },
  {
   "cell_type": "code",
   "execution_count": null,
   "id": "c6b87e1b-bb19-40a7-b03e-6f52c661ab54",
   "metadata": {},
   "outputs": [],
   "source": [
    "    text_input = driver.find_element(By.ID, \"textInput\")\n",
    "    ActionChains(driver)\\\n",
    "        .send_keys_to_element(text_input, \"abc\")\\\n",
    "        .perform()"
   ]
  },
  {
   "cell_type": "markdown",
   "id": "9cdb8b2d-c315-4c59-a2a3-e4b336db10e4",
   "metadata": {},
   "source": [
    "#### 5. Copy and Paste"
   ]
  },
  {
   "cell_type": "markdown",
   "id": "bc8f0ae9-3f52-4f4e-a55b-3d7d02168cef",
   "metadata": {},
   "source": [
    "+ Here’s an example of using all of the above methods to conduct a copy / paste action. \n",
    "+ Note that the key to use for this operation will be different depending on if it is a Mac OS or not. \n",
    "+ This code will end up with the text: SeleniumSelenium!"
   ]
  },
  {
   "cell_type": "code",
   "execution_count": null,
   "id": "f0d8339a-433b-4663-9b28-50b6e278d30d",
   "metadata": {},
   "outputs": [],
   "source": [
    "    cmd_ctrl = Keys.COMMAND if sys.platform == 'darwin' else Keys.CONTROL\n",
    "\n",
    "    ActionChains(driver)\\\n",
    "        .send_keys(\"Selenium!\")\\\n",
    "        .send_keys(Keys.ARROW_LEFT)\\\n",
    "        .key_down(Keys.SHIFT)\\\n",
    "        .send_keys(Keys.ARROW_UP)\\\n",
    "        .key_up(Keys.SHIFT)\\\n",
    "        .key_down(cmd_ctrl)\\\n",
    "        .send_keys(\"xvv\")\\\n",
    "        .key_up(cmd_ctrl)\\\n",
    "        .perform()"
   ]
  },
  {
   "cell_type": "markdown",
   "id": "81ea9c28-2dd7-417d-bb18-16e6e360b296",
   "metadata": {
    "tags": []
   },
   "source": [
    "## 4. Mouse actions "
   ]
  },
  {
   "cell_type": "markdown",
   "id": "70007d30-0359-4468-9330-9e7dfab68c83",
   "metadata": {},
   "source": [
    "A representation of any pointer device for interacting with a web page"
   ]
  },
  {
   "cell_type": "markdown",
   "id": "f3c8ffdc-7a67-42ca-9ca7-161e0e9b5c11",
   "metadata": {
    "tags": []
   },
   "source": [
    "#### 1. Click and hold "
   ]
  },
  {
   "cell_type": "markdown",
   "id": "ab02c5c3-e6c9-402e-9c5d-98489dc6c27c",
   "metadata": {},
   "source": [
    "This method combines moving the mouse to the center of an element with pressing the left mouse button. This is useful for focusing a specific element:"
   ]
  },
  {
   "cell_type": "code",
   "execution_count": null,
   "id": "63ef8d79-bf3f-4501-bca5-0ce8fbdb4c34",
   "metadata": {},
   "outputs": [],
   "source": [
    "    clickable = driver.find_element(By.ID, \"clickable\")\n",
    "    ActionChains(driver)\\\n",
    "        .click_and_hold(clickable)\\\n",
    "        .perform()"
   ]
  },
  {
   "cell_type": "markdown",
   "id": "4f2e3fb5-4d1c-4d9b-83b1-8490e9c59c97",
   "metadata": {
    "tags": []
   },
   "source": [
    "#### 2. Click and release"
   ]
  },
  {
   "cell_type": "markdown",
   "id": "484c8ce0-4982-4ef1-8bde-e5ae5e1959d4",
   "metadata": {},
   "source": [
    "This method combines moving to the center of an element with pressing and releasing the left mouse button. This is otherwise known as “clicking”:"
   ]
  },
  {
   "cell_type": "code",
   "execution_count": null,
   "id": "e5e6734e-78cc-4d2e-a581-d1b8c6f647ee",
   "metadata": {},
   "outputs": [],
   "source": [
    "    clickable = driver.find_element(By.ID, \"click\")\n",
    "    ActionChains(driver)\\\n",
    "        .click(clickable)\\\n",
    "        .perform()"
   ]
  },
  {
   "cell_type": "markdown",
   "id": "c85bbff7-44d3-47e0-b481-a284b19ae732",
   "metadata": {
    "tags": []
   },
   "source": [
    "#### 3. Alternate Button Clicks"
   ]
  },
  {
   "cell_type": "markdown",
   "id": "2a531c9e-9308-4843-a1f3-263abd348e68",
   "metadata": {},
   "source": [
    "##### 3.1 Context Click"
   ]
  },
  {
   "cell_type": "markdown",
   "id": "873805ec-c5cf-4b2e-aa05-1771294c0155",
   "metadata": {},
   "source": [
    "This method combines moving to the center of an element with pressing and releasing the right mouse button (button 2). This is otherwise known as “right-clicking”:"
   ]
  },
  {
   "cell_type": "code",
   "execution_count": null,
   "id": "723f4580-01e0-429e-b60d-e7949f56865d",
   "metadata": {},
   "outputs": [],
   "source": [
    "    clickable = driver.find_element(By.ID, \"clickable\")\n",
    "    ActionChains(driver)\\\n",
    "        .context_click(clickable)\\\n",
    "        .perform()"
   ]
  },
  {
   "cell_type": "markdown",
   "id": "61d3ca8b-9d9a-42e2-b3b1-5c4114912a85",
   "metadata": {},
   "source": [
    "##### 3.2 Back Click"
   ]
  },
  {
   "cell_type": "markdown",
   "id": "5a0fe37f-a38c-4293-b60c-a85cc8578f09",
   "metadata": {},
   "source": [
    "There is no convenience method for this, it is just pressing and releasing mouse button 3"
   ]
  },
  {
   "cell_type": "code",
   "execution_count": null,
   "id": "3fa323f0-f998-4404-97f0-d316c15023e4",
   "metadata": {},
   "outputs": [],
   "source": [
    "    action = ActionBuilder(driver)\n",
    "    action.pointer_action.pointer_down(MouseButton.BACK)\n",
    "    action.pointer_action.pointer_up(MouseButton.BACK)\n",
    "    action.perform()"
   ]
  },
  {
   "cell_type": "markdown",
   "id": "cf51f46f-aff1-4312-bd7a-bb065c711805",
   "metadata": {},
   "source": [
    "##### 3.3 Forward Click"
   ]
  },
  {
   "cell_type": "markdown",
   "id": "39d9a0a7-edcf-448b-b304-9c906cae20a3",
   "metadata": {},
   "source": [
    "There is no convenience method for this, it is just pressing and releasing mouse button 4"
   ]
  },
  {
   "cell_type": "code",
   "execution_count": null,
   "id": "b3e40ec1-4518-4db7-b258-5abce5d81bb3",
   "metadata": {},
   "outputs": [],
   "source": [
    "    action = ActionBuilder(driver)\n",
    "    action.pointer_action.pointer_down(MouseButton.FORWARD)\n",
    "    action.pointer_action.pointer_up(MouseButton.FORWARD)\n",
    "    action.perform()"
   ]
  },
  {
   "cell_type": "markdown",
   "id": "0604c3a9-731f-44a0-8de2-8c48033c1476",
   "metadata": {
    "tags": []
   },
   "source": [
    "#### 4. Double click"
   ]
  },
  {
   "cell_type": "markdown",
   "id": "1d58d25f-3b3b-4181-a9c2-4dd262dcd46f",
   "metadata": {},
   "source": [
    "This method combines moving to the center of an element with pressing and releasing the left mouse button twice."
   ]
  },
  {
   "cell_type": "code",
   "execution_count": null,
   "id": "0ac4feb1-0393-4ff3-b8f3-615f774ccff4",
   "metadata": {},
   "outputs": [],
   "source": [
    "    clickable = driver.find_element(By.ID, \"clickable\")\n",
    "    ActionChains(driver)\\\n",
    "        .double_click(clickable)\\\n",
    "        .perform()"
   ]
  },
  {
   "cell_type": "markdown",
   "id": "d8b3319b-ddd0-47f7-a85a-93b46b73967c",
   "metadata": {
    "tags": []
   },
   "source": [
    "#### 5. Move to element"
   ]
  },
  {
   "cell_type": "markdown",
   "id": "704a0474-f0eb-4a1e-8972-2bd35585309c",
   "metadata": {},
   "source": [
    "This method moves the mouse to the in-view center point of the element. This is otherwise known as “hovering.” Note that the element must be in the viewport or else the command will error."
   ]
  },
  {
   "cell_type": "code",
   "execution_count": null,
   "id": "d7231766-afee-4256-8654-88fbcc277b99",
   "metadata": {},
   "outputs": [],
   "source": [
    "    hoverable = driver.find_element(By.ID, \"hover\")\n",
    "    ActionChains(driver)\\\n",
    "        .move_to_element(hoverable)\\\n",
    "        .perform()"
   ]
  },
  {
   "cell_type": "markdown",
   "id": "8c459a4e-3052-4218-9cb2-cd76174a2d57",
   "metadata": {
    "tags": []
   },
   "source": [
    "#### 6. Move by offset"
   ]
  },
  {
   "cell_type": "markdown",
   "id": "b5c340ec-8310-48c0-b219-c3b99da652f1",
   "metadata": {},
   "source": [
    "+ These methods first move the mouse to the designated origin and then by the number of pixels in the provided offset. \n",
    "+ Note that the position of the mouse must be in the viewport or else the command will error."
   ]
  },
  {
   "cell_type": "markdown",
   "id": "a266b128-3648-4562-be69-5ddf48e8a9f6",
   "metadata": {},
   "source": [
    " #####  6.1 Offset from Element (Top Left Origin)"
   ]
  },
  {
   "cell_type": "markdown",
   "id": "7e298744-4014-43eb-a3a9-3791042e298b",
   "metadata": {},
   "source": [
    "This method moves the mouse to the in-view center point of the element then attempts to move to the upper left corner of the element and then moves by the provided offset.\n",
    "\n",
    "This will be removed as an option in Selenium 4.3, and only an offset from center of the element will be supported. \n",
    "As of Selenium 4.2, this is the default behavior for Ruby, .NET and Python in order to be backwards compatible with previous versions of Selenium. \n",
    "This approach does not work correctly when the element is not entirely inside the viewport."
   ]
  },
  {
   "cell_type": "code",
   "execution_count": null,
   "id": "4e1afdcb-bf14-4280-978b-6117ebd3818a",
   "metadata": {},
   "outputs": [],
   "source": [
    "    mouse_tracker = driver.find_element(By.ID, \"mouse-tracker\")\n",
    "    ActionChains(driver)\\\n",
    "        .move_to_element_with_offset(mouse_tracker, 8, 0)\\\n",
    "        .perform()"
   ]
  },
  {
   "cell_type": "markdown",
   "id": "e9a27ba1-6915-4a32-98e6-cb0d306385b2",
   "metadata": {},
   "source": [
    "#####    6.2 Offset from Element (Center Origin) "
   ]
  },
  {
   "cell_type": "markdown",
   "id": "bbb2b22e-4718-4158-967a-362676f54105",
   "metadata": {},
   "source": [
    "This method moves to the in-view center point of the element, then moves the mouse by the provided offset\n",
    "\n",
    "This is the default behavior in Java as of Selenium 4.0, and will be the default for the remaining languages as of Selenium 4.3."
   ]
  },
  {
   "cell_type": "markdown",
   "id": "a7f243e2-6af0-4015-b050-5fe15e62b3a1",
   "metadata": {},
   "source": [
    "#####    6.3 Offset from Viewport"
   ]
  },
  {
   "cell_type": "markdown",
   "id": "c4d4a434-9f12-4d96-b7ba-13e31857be77",
   "metadata": {},
   "source": [
    "This method moves the mouse from the upper left corner of the current viewport by the provided offset."
   ]
  },
  {
   "cell_type": "code",
   "execution_count": null,
   "id": "9e9cd9c1-2b0c-466c-8c51-19489b98c829",
   "metadata": {},
   "outputs": [],
   "source": [
    "    action = ActionBuilder(driver)\n",
    "    action.pointer_action.move_to_location(8, 0)\n",
    "    action.perform()"
   ]
  },
  {
   "cell_type": "markdown",
   "id": "6838d445-9cc7-49c3-b814-20468e9edbdf",
   "metadata": {},
   "source": [
    "#####    6.4 Offset from Current Pointer Location"
   ]
  },
  {
   "cell_type": "markdown",
   "id": "62c4f174-f73f-4b5b-a69c-f388962e3acc",
   "metadata": {},
   "source": [
    "MoveByOffset(30, -10) moves right 30 and up 10 from the current mouse position. If the mouse has not previously been moved, the position will be in the upper left corner of the viewport. Note that the pointer position does not change when the page is scrolled."
   ]
  },
  {
   "cell_type": "markdown",
   "id": "758ec156-fdd4-4562-b053-877d8531c23d",
   "metadata": {
    "tags": []
   },
   "source": [
    "#### 7. Drag and Drop on Element"
   ]
  },
  {
   "cell_type": "markdown",
   "id": "462d010a-3698-4e54-94d7-944678f1ccea",
   "metadata": {},
   "source": [
    "+ This method firstly performs a click-and-hold on the source element, moves to the location of the target element and then releases the mouse."
   ]
  },
  {
   "cell_type": "code",
   "execution_count": null,
   "id": "1be92443-fdb5-4f7a-b433-f354c4385777",
   "metadata": {},
   "outputs": [],
   "source": [
    "    draggable = driver.find_element(By.ID, \"draggable\")\n",
    "    droppable = driver.find_element(By.ID, \"droppable\")\n",
    "    ActionChains(driver)\\\n",
    "        .drag_and_drop(draggable, droppable)\\\n",
    "        .perform()"
   ]
  },
  {
   "cell_type": "markdown",
   "id": "5fcf72c4-42ac-4555-994c-23f24e11e74c",
   "metadata": {
    "tags": []
   },
   "source": [
    "#### 8. Drag and Drop by Offset"
   ]
  },
  {
   "cell_type": "markdown",
   "id": "082ca449-7e49-40e3-8fb6-0bb6b02e7ec7",
   "metadata": {},
   "source": [
    "This method firstly performs a click-and-hold on the source element, moves to the given offset and then releases the mouse."
   ]
  },
  {
   "cell_type": "code",
   "execution_count": null,
   "id": "f6cc14aa-9d29-4d51-9517-4c657db62ce7",
   "metadata": {},
   "outputs": [],
   "source": [
    "    draggable = driver.find_element(By.ID, \"draggable\")\n",
    "    start = draggable.location\n",
    "    finish = driver.find_element(By.ID, \"droppable\").location\n",
    "    ActionChains(driver)\\\n",
    "        .drag_and_drop_by_offset(draggable, finish['x'] - start['x'], finish['y'] - start['y'])\\\n",
    "        .perform()"
   ]
  },
  {
   "cell_type": "markdown",
   "id": "27a781e3-e32e-4604-a561-02df66d9dc45",
   "metadata": {
    "tags": []
   },
   "source": [
    "## 5. Pen actions"
   ]
  },
  {
   "cell_type": "markdown",
   "id": "ebcd4c23-1c7a-44e1-ba97-dc3e7e4cb717",
   "metadata": {},
   "source": [
    "A representation of a pen stylus kind of pointer input for interacting with a web page.\n",
    "Chromium Only\n",
    "\n",
    "A Pen is a type of pointer input that has most of the same behavior as a mouse, but can also have event properties unique to a stylus. Additionally, while a mouse has 5 buttons, a pen has 3 equivalent button states:\n",
    "\n",
    "0 — Touch Contact (the default; equivalent to a left click)\n",
    ",2 — Barrel Button (equivalent to a right click)\n",
    ",5 — Eraser Button (currently unsupported by drivers)"
   ]
  },
  {
   "cell_type": "markdown",
   "id": "779a4e5d-220f-40e1-ab82-5e929361ddec",
   "metadata": {},
   "source": [
    "#### 1. Using a Pen"
   ]
  },
  {
   "cell_type": "code",
   "execution_count": null,
   "id": "26116d39-3be5-44a0-ba49-334ae14f16d5",
   "metadata": {},
   "outputs": [],
   "source": [
    "    pointer_area = driver.find_element(By.ID, \"pointerArea\")\n",
    "    pen_input = PointerInput(POINTER_PEN, \"default pen\")\n",
    "    action = ActionBuilder(driver, mouse=pen_input)\n",
    "    action.pointer_action\\\n",
    "        .move_to(pointer_area)\\\n",
    "        .pointer_down()\\\n",
    "        .move_by(2, 2)\\\n",
    "        .pointer_up()\n",
    "    action.perform()"
   ]
  },
  {
   "cell_type": "markdown",
   "id": "3bf41cd6-3c20-4a51-8a2a-e10afcb20039",
   "metadata": {},
   "source": [
    "#### 2. Adding Pointer Event Attributes"
   ]
  },
  {
   "cell_type": "code",
   "execution_count": null,
   "id": "00a7e26d-49b6-44e3-bc39-52a466ec3a3f",
   "metadata": {},
   "outputs": [],
   "source": [
    "    pointer_area = driver.find_element(By.ID, \"pointerArea\")\n",
    "    pen_input = PointerInput(POINTER_PEN, \"default pen\")\n",
    "    action = ActionBuilder(driver, mouse=pen_input)\n",
    "    action.pointer_action\\\n",
    "        .move_to(pointer_area)\\\n",
    "        .pointer_down()\\\n",
    "        .move_by(2, 2, tilt_x=-72, tilt_y=9, twist=86)\\\n",
    "        .pointer_up(0)\n",
    "    action.perform()"
   ]
  },
  {
   "cell_type": "markdown",
   "id": "36ea2936-6427-475d-954d-6a39087718aa",
   "metadata": {
    "tags": []
   },
   "source": [
    "## 6. Scroll wheel actions"
   ]
  },
  {
   "cell_type": "markdown",
   "id": "8231a301-51a2-49c4-9078-9490a2068b62",
   "metadata": {},
   "source": [
    "A representation of a scroll wheel input device for interacting with a web page.\n",
    "Selenium v4.2\n",
    "\n",
    "Chromium Only\n",
    "\n",
    "There are 5 scenarios for scrolling on a page"
   ]
  },
  {
   "cell_type": "markdown",
   "id": "70982c0f-99d8-4b6f-924b-857a1692657b",
   "metadata": {},
   "source": [
    "#### 1. Scroll to element"
   ]
  },
  {
   "cell_type": "markdown",
   "id": "da2ac891-6842-445a-b8e3-7f048ffae0df",
   "metadata": {},
   "source": [
    "+ The actions class does not automatically scroll the target element into view. \n",
    "+ This method will need to be used if elements are not already inside the viewport. \n",
    "+ It works regardless of whether the element is above or below the current viewscreen."
   ]
  },
  {
   "cell_type": "code",
   "execution_count": null,
   "id": "8441da85-3fac-4d67-a6c1-f24389236411",
   "metadata": {},
   "outputs": [],
   "source": [
    "    iframe = driver.find_element(By.TAG_NAME, \"iframe\")\n",
    "    ActionChains(driver)\\\n",
    "        .scroll_to_element(iframe)\\\n",
    "        .perform()"
   ]
  },
  {
   "cell_type": "markdown",
   "id": "5fa510a7-874c-434d-8788-1d6f885b326c",
   "metadata": {},
   "source": [
    "#### 2. Scroll by given amount"
   ]
  },
  {
   "cell_type": "markdown",
   "id": "66e169fd-b594-4f91-a59e-bfcf3781b4a6",
   "metadata": {},
   "source": [
    "+ Pass in an delta x and a delta y value for how much to scroll in the right and down directions. \n",
    "+ Negative values represent left and up, respectively."
   ]
  },
  {
   "cell_type": "code",
   "execution_count": null,
   "id": "ddec506b-8555-4a0a-a747-bd76895250ab",
   "metadata": {},
   "outputs": [],
   "source": [
    "    footer = driver.find_element(By.TAG_NAME, \"footer\")\n",
    "    delta_y = footer.rect['y']\n",
    "    ActionChains(driver)\\\n",
    "        .scroll_by_amount(0, delta_y)\\\n",
    "        .perform()"
   ]
  },
  {
   "cell_type": "markdown",
   "id": "f27dbf53-ef49-4807-98dc-7a58019da633",
   "metadata": {},
   "source": [
    "#### 3. Scroll from an element by a given amount"
   ]
  },
  {
   "cell_type": "markdown",
   "id": "7767e157-bd1c-4431-bf71-0c36b57d4a01",
   "metadata": {},
   "source": [
    "+ This scenario is effectively a combination of the above two methods\n",
    "+ If the element is out of the viewport, it will be scrolled to the bottom of the screen. \n",
    "+ To execute this use the \"Scroll From\" method, which takes 3 arguments - the origination point, delta x and delta y."
   ]
  },
  {
   "cell_type": "code",
   "execution_count": null,
   "id": "94d4766c-a423-4ed0-82d5-575303af74fa",
   "metadata": {},
   "outputs": [],
   "source": [
    "    iframe = driver.find_element(By.TAG_NAME, \"iframe\")\n",
    "    scroll_origin = ScrollOrigin.from_element(iframe)\n",
    "    ActionChains(driver)\\\n",
    "        .scroll_from_origin(scroll_origin, 0, 200)\\\n",
    "        .perform()"
   ]
  },
  {
   "cell_type": "markdown",
   "id": "1768597d-c7f6-4e04-9bac-ccf0f9eb36ca",
   "metadata": {},
   "source": [
    "#### 4. Scroll from an element with an offset"
   ]
  },
  {
   "cell_type": "markdown",
   "id": "b90fb0f0-55e3-42e6-a9c9-cb634a442c9c",
   "metadata": {},
   "source": []
  },
  {
   "cell_type": "code",
   "execution_count": null,
   "id": "541429f5-7c18-4f41-b3d8-cf7026a03434",
   "metadata": {},
   "outputs": [],
   "source": [
    "    footer = driver.find_element(By.TAG_NAME, \"footer\")\n",
    "    scroll_origin = ScrollOrigin.from_element(footer, 0, -50)\n",
    "    ActionChains(driver)\\\n",
    "        .scroll_from_origin(scroll_origin, 0, 200)\\\n",
    "        .perform()"
   ]
  },
  {
   "cell_type": "markdown",
   "id": "36f4dbde-9b01-4768-b994-7c6af7144d23",
   "metadata": {},
   "source": [
    "#### 5. Scroll from a offset of origin (element) by given amount "
   ]
  },
  {
   "cell_type": "markdown",
   "id": "15dd4ce5-22a6-4143-ae03-519365e95b6a",
   "metadata": {},
   "source": [
    "This uses the \"Scroll From\" method again, but the viewport is designated instead of an element. An offset is specified from the upper left corner of the current viewport. After the origin point is determined, the page will be scrolled by the provided delta x and delta y values."
   ]
  },
  {
   "cell_type": "code",
   "execution_count": null,
   "id": "7fc8aca2-705e-4536-b3fb-d1e713e9e4f9",
   "metadata": {},
   "outputs": [],
   "source": [
    "    ActionChains(driver)\\\n",
    "        .scroll_from_origin(scroll_origin, 0, 200)\\\n",
    "        .perform()"
   ]
  },
  {
   "cell_type": "markdown",
   "id": "a40a69ae-2a67-4cc0-b4d8-e858affe65c9",
   "metadata": {
    "tags": []
   },
   "source": [
    "# III/ Support Features"
   ]
  },
  {
   "cell_type": "markdown",
   "id": "30c074c7-b624-449a-b417-ac65caebf8dd",
   "metadata": {
    "tags": []
   },
   "source": [
    "## 1. Working with colors"
   ]
  },
  {
   "cell_type": "markdown",
   "id": "f490fd3b-f8a9-44fb-a0bb-be3c29d5745a",
   "metadata": {},
   "source": [
    "You will occasionally want to validate the colour of something as part of your tests. The problem is that there is no easy way to compare a HEX representation of a colour with an RGB representation. There is, however, a solution - the Color class! First of all, you will need to import the class:."
   ]
  },
  {
   "cell_type": "code",
   "execution_count": null,
   "id": "a5cbc324-735c-4a35-af90-dfd430760537",
   "metadata": {},
   "outputs": [],
   "source": [
    "from selenium.webdriver.support.color import Color\n",
    "  "
   ]
  },
  {
   "cell_type": "markdown",
   "id": "cc46d101-7e17-488f-859b-a41d53fbd0a1",
   "metadata": {},
   "source": [
    "You can now start creating colour objects. Every colour object will need to be created from a string representation of your colour. Supported colour representations are:"
   ]
  },
  {
   "cell_type": "code",
   "execution_count": null,
   "id": "2bc36a88-ab75-49d6-9bd8-2d72beeb0b85",
   "metadata": {},
   "outputs": [],
   "source": [
    "HEX_COLOUR = Color.from_string('#2F7ED8')\n",
    "RGB_COLOUR = Color.from_string('rgb(255, 255, 255)')\n",
    "RGB_COLOUR = Color.from_string('rgb(40%, 20%, 40%)')\n",
    "RGBA_COLOUR = Color.from_string('rgba(255, 255, 255, 0.5)')\n",
    "RGBA_COLOUR = Color.from_string('rgba(40%, 20%, 40%, 0.5)')\n",
    "HSL_COLOUR = Color.from_string('hsl(100, 0%, 50%)')\n",
    "HSLA_COLOUR = Color.from_string('hsla(100, 0%, 50%, 0.5)')\n",
    "  "
   ]
  },
  {
   "cell_type": "markdown",
   "id": "d0d91c49-b666-4683-8109-86e155fb9a09",
   "metadata": {},
   "source": [
    "The Color class also supports all of the base colour definitions specified in http://www.w3.org/TR/css3-color/#html4."
   ]
  },
  {
   "cell_type": "code",
   "execution_count": null,
   "id": "021e1317-c116-4180-b613-490f68e5c45c",
   "metadata": {},
   "outputs": [],
   "source": [
    "BLACK = Color.from_string('black')\n",
    "CHOCOLATE = Color.from_string('chocolate')\n",
    "HOTPINK = Color.from_string('hotpink')\n",
    "  "
   ]
  },
  {
   "cell_type": "markdown",
   "id": "aaf03d39-f327-4bb0-b43a-5acd09e1e9a0",
   "metadata": {},
   "source": [
    "Sometimes browsers will return a colour value of “transparent” if no colour has been set on an element. The Color class also supports this:"
   ]
  },
  {
   "cell_type": "code",
   "execution_count": null,
   "id": "5a62ae81-b167-49ae-b5f0-80edcd51174a",
   "metadata": {},
   "outputs": [],
   "source": [
    "TRANSPARENT = Color.from_string('transparent')\n",
    "  "
   ]
  },
  {
   "cell_type": "markdown",
   "id": "bdd2fc49-078f-4930-ab63-1e33a9078b1c",
   "metadata": {},
   "source": [
    "You can now safely query an element to get its colour/background colour knowing that any response will be correctly parsed and converted into a valid Color object:"
   ]
  },
  {
   "cell_type": "code",
   "execution_count": null,
   "id": "b21b641a-a1f3-43be-8ad2-e90bd6c52f40",
   "metadata": {},
   "outputs": [],
   "source": [
    "login_button_colour = Color.from_string(driver.find_element(By.ID,'login').value_of_css_property('color'))\n",
    "\n",
    "login_button_background_colour = Color.from_string(driver.find_element(By.ID,'login').value_of_css_property('background-color'))\n",
    "  "
   ]
  },
  {
   "cell_type": "markdown",
   "id": "9a40720b-bf09-4472-84d8-ab488cd51a9d",
   "metadata": {},
   "source": [
    "You can then directly compare colour objects:"
   ]
  },
  {
   "cell_type": "code",
   "execution_count": null,
   "id": "834ec847-8a03-499b-aa7a-3f15c8597b7d",
   "metadata": {},
   "outputs": [],
   "source": [
    "assert login_button_background_colour == HOTPINK"
   ]
  },
  {
   "cell_type": "markdown",
   "id": "a41b691b-956b-4a44-96f1-be073f19b190",
   "metadata": {},
   "source": [
    "Or you can convert the colour into one of the following formats and perform a static validation:"
   ]
  },
  {
   "cell_type": "code",
   "execution_count": null,
   "id": "28bd7fd7-111b-4e33-8058-2e856ef3652e",
   "metadata": {},
   "outputs": [],
   "source": [
    "assert login_button_background_colour.hex == '#ff69b4'\n",
    "assert login_button_background_colour.rgba == 'rgba(255, 105, 180, 1)'\n",
    "assert login_button_background_colour.rgb == 'rgb(255, 105, 180)'\n",
    "  "
   ]
  },
  {
   "cell_type": "markdown",
   "id": "436310d0-a4f7-46fc-bebc-3abf479e2d7a",
   "metadata": {},
   "source": [
    "Colours are no longer a problem."
   ]
  },
  {
   "cell_type": "markdown",
   "id": "a9fb59d2-7971-4c9b-b706-642cd0f079f9",
   "metadata": {
    "tags": []
   },
   "source": [
    "## 2. Working with select list elements"
   ]
  },
  {
   "cell_type": "markdown",
   "id": "e9c6a64f-ee19-44d1-b0d1-e53d5b533ee2",
   "metadata": {},
   "source": [
    "1 Select lists have special behaviors compared to other elements.\n",
    "The Select object will now give you a series of commands that allow you to interact with a select element.\n",
    "\n",
    "2 Note that this class only works for HTML elements select and option. It is possible to design drop-downs with JavaScript overlays using div or li, and this class will not work for those"
   ]
  },
  {
   "cell_type": "markdown",
   "id": "953d49d5-d96d-42c6-89ba-eee00440ecc1",
   "metadata": {},
   "source": [
    "### 1. Types"
   ]
  },
  {
   "cell_type": "markdown",
   "id": "8982a5d6-f82a-45f7-9762-a8d385076261",
   "metadata": {},
   "source": [
    "Select methods may behave differently depending on which type of select element is being worked with"
   ]
  },
  {
   "cell_type": "markdown",
   "id": "a45996f7-4993-4a1c-b327-d383344d8cb7",
   "metadata": {},
   "source": [
    "#### 1. Single select"
   ]
  },
  {
   "cell_type": "markdown",
   "id": "508854d1-b5f7-4fc6-8ac3-c44198ad6a1d",
   "metadata": {},
   "source": [
    "This is the standard drop-down object where one and only one option may be selected."
   ]
  },
  {
   "cell_type": "code",
   "execution_count": null,
   "id": "620ddf30-d5e3-43d1-bc01-4c31ba8d03b9",
   "metadata": {},
   "outputs": [],
   "source": [
    "<select name=\"selectomatic\">\n",
    "    <option selected=\"selected\" id=\"non_multi_option\" value=\"one\">One</option>\n",
    "    <option value=\"two\">Two</option>\n",
    "    <option value=\"four\">Four</option>\n",
    "    <option value=\"still learning how to count, apparently\">Still learning how to count, apparently</option>\n",
    "</select>"
   ]
  },
  {
   "cell_type": "markdown",
   "id": "966fb538-5e90-41a5-a8a6-be99d45a12b2",
   "metadata": {},
   "source": [
    "#### 2. Multiple select"
   ]
  },
  {
   "cell_type": "markdown",
   "id": "47894dcc-3dd0-45ff-b916-0abd1f3b03a8",
   "metadata": {},
   "source": [
    "This select list allows selecting and deselecting more than one option at a time. This only applies to select elements with the multiple attribute."
   ]
  },
  {
   "cell_type": "code",
   "execution_count": null,
   "id": "5e0be3e4-3be7-4bd3-8eb7-4c5f311b3095",
   "metadata": {},
   "outputs": [],
   "source": [
    "<select name=\"multi\" id=\"multi\" multiple=\"multiple\">\n",
    "    <option selected=\"selected\" value=\"eggs\">Eggs</option>\n",
    "    <option value=\"ham\">Ham</option>\n",
    "    <option selected=\"selected\" value=\"sausages\">Sausages</option>\n",
    "    <option value=\"onion gravy\">Onion gravy</option>\n",
    "</select>"
   ]
  },
  {
   "cell_type": "markdown",
   "id": "92ca86aa-292a-447d-b9c4-983e2db25d16",
   "metadata": {},
   "source": [
    "### 2. Create Class"
   ]
  },
  {
   "cell_type": "markdown",
   "id": "e89bfefc-5419-407c-98bb-01ae8466fa07",
   "metadata": {},
   "source": [
    "First locate a <#select> element, then use it to initialize a Select object. Note that as of Selenium 4.5, you can’t create a Select object if the  <#select>  element is disabled."
   ]
  },
  {
   "cell_type": "code",
   "execution_count": null,
   "id": "c2d1546e-2cb1-475b-ae8a-037bc70301cf",
   "metadata": {},
   "outputs": [],
   "source": [
    "    select_element = driver.find_element(By.NAME, 'selectomatic')\n",
    "    select = Select(select_element)"
   ]
  },
  {
   "cell_type": "markdown",
   "id": "01d9c253-906f-477d-9b34-f99fbcf26a3f",
   "metadata": {},
   "source": [
    "### 3. List options"
   ]
  },
  {
   "cell_type": "markdown",
   "id": "963b949b-79f1-4428-8e4e-cf2b11ab8fa0",
   "metadata": {},
   "source": [
    "There are two lists that can be obtained:"
   ]
  },
  {
   "cell_type": "markdown",
   "id": "0977969c-8554-47c4-8d48-9c8415230389",
   "metadata": {},
   "source": [
    "#### 1. All options"
   ]
  },
  {
   "cell_type": "markdown",
   "id": "83ca9816-116a-4874-a2a0-a11ddc69007c",
   "metadata": {},
   "source": [
    "Get a list of all options in the <#select> element:"
   ]
  },
  {
   "cell_type": "code",
   "execution_count": null,
   "id": "ab35a3b8-2a7f-4810-8463-17afac7039d1",
   "metadata": {},
   "outputs": [],
   "source": [
    "    option_list = select.options"
   ]
  },
  {
   "cell_type": "markdown",
   "id": "8ea32a53-9f8b-4f01-b9f1-b9e5b2a8858f",
   "metadata": {},
   "source": [
    "#### 2. Selected options"
   ]
  },
  {
   "cell_type": "markdown",
   "id": "b6978e74-295e-4967-b702-c05643aebd0a",
   "metadata": {},
   "source": [
    "Get a list of selected options in the <#select> element. For a standard select list this will only be a list with one element, for a multiple select list it can contain zero or many elements."
   ]
  },
  {
   "cell_type": "code",
   "execution_count": null,
   "id": "2e5bcf31-ad21-4a17-bcf4-391903e67b99",
   "metadata": {},
   "outputs": [],
   "source": [
    "    selected_option_list = select.all_selected_options"
   ]
  },
  {
   "cell_type": "markdown",
   "id": "2e368b52-ac16-47d4-8426-6aee057230b9",
   "metadata": {},
   "source": [
    "### 4. Select option "
   ]
  },
  {
   "cell_type": "markdown",
   "id": "28beb809-1bdd-4b98-b525-17628a881039",
   "metadata": {},
   "source": [
    "The Select class provides three ways to select an option. Note that for multiple select type Select lists, you can repeat these methods for each element you want to select:"
   ]
  },
  {
   "cell_type": "markdown",
   "id": "a5e9c8ef-7dfb-46c3-85e3-f58577bba30b",
   "metadata": {},
   "source": [
    "#### 1. Text"
   ]
  },
  {
   "cell_type": "markdown",
   "id": "f6b3d441-bf2e-4be1-accb-959a0fe3a5d1",
   "metadata": {},
   "source": [
    "Select the option based on its visible text:"
   ]
  },
  {
   "cell_type": "code",
   "execution_count": null,
   "id": "ba6aaf1d-5b0a-4100-ab69-9c189f1b2b7f",
   "metadata": {},
   "outputs": [],
   "source": [
    "    select.select_by_visible_text('Four')"
   ]
  },
  {
   "cell_type": "markdown",
   "id": "938aaeea-cb44-479c-9dcc-37de2876c1dc",
   "metadata": {},
   "source": [
    "#### 2. Value "
   ]
  },
  {
   "cell_type": "markdown",
   "id": "ed4fb671-a7fc-4932-a55f-103fec50e020",
   "metadata": {},
   "source": [
    "Select the option based on its value attribute"
   ]
  },
  {
   "cell_type": "code",
   "execution_count": null,
   "id": "e7bf24fd-8732-4066-94e8-1ab67975711e",
   "metadata": {},
   "outputs": [],
   "source": [
    "    select.select_by_value('two')"
   ]
  },
  {
   "cell_type": "markdown",
   "id": "7487f7a9-cbf1-4818-9fbe-a69fdbc9f286",
   "metadata": {},
   "source": [
    "#### 3. Index"
   ]
  },
  {
   "cell_type": "markdown",
   "id": "dbf7659e-90d5-4514-9720-f3f6284854a0",
   "metadata": {},
   "source": [
    "Select the option based on its position in the list"
   ]
  },
  {
   "cell_type": "code",
   "execution_count": null,
   "id": "5c6cd24c-3190-4b56-aaef-69373c31db80",
   "metadata": {},
   "outputs": [],
   "source": [
    "    select.select_by_index(3)"
   ]
  },
  {
   "cell_type": "markdown",
   "id": "0af1e1e3-4bdf-4872-9009-0d30e6f128f9",
   "metadata": {},
   "source": [
    "#### 4. Disabled options"
   ]
  },
  {
   "cell_type": "markdown",
   "id": "047b3046-063f-4ff2-a800-69b5c19d3848",
   "metadata": {},
   "source": [
    "Selenium v4.5\n",
    "\n",
    "Options with a disabled attribute may not be selected.1"
   ]
  },
  {
   "cell_type": "code",
   "execution_count": null,
   "id": "3bc29a8d-8194-42d8-81ba-dccb2a4386c7",
   "metadata": {},
   "outputs": [],
   "source": [
    "    <select name=\"single_disabled\">\n",
    "      <option id=\"sinlge_disabled_1\" value=\"enabled\">Enabled</option>\n",
    "      <option id=\"sinlge_disabled_2\" value=\"disabled\" disabled=\"disabled\">Disabled</option>\n",
    "    </select>\n"
   ]
  },
  {
   "cell_type": "code",
   "execution_count": null,
   "id": "503e256e-1fbf-4804-a31d-e83c6f19db4f",
   "metadata": {},
   "outputs": [],
   "source": [
    "    with pytest.raises(NotImplementedError):\n",
    "        select.select_by_value('disabled')"
   ]
  },
  {
   "cell_type": "markdown",
   "id": "3cf6e0be-0c09-4a19-8c89-a353ee043cdb",
   "metadata": {},
   "source": [
    "#### 5. De-select option"
   ]
  },
  {
   "cell_type": "markdown",
   "id": "6ecb69f4-f6c5-438b-b206-8086828cfc76",
   "metadata": {},
   "source": [
    "Only multiple select type select lists can have options de-selected. You can repeat these methods for each element you want to select."
   ]
  },
  {
   "cell_type": "code",
   "execution_count": null,
   "id": "c8a5b0e2-eec4-4084-b514-43c2f35ced25",
   "metadata": {},
   "outputs": [],
   "source": [
    "    select.deselect_by_value('eggs')"
   ]
  }
 ],
 "metadata": {
  "kernelspec": {
   "display_name": "Python 3 (ipykernel)",
   "language": "python",
   "name": "python3"
  },
  "language_info": {
   "codemirror_mode": {
    "name": "ipython",
    "version": 3
   },
   "file_extension": ".py",
   "mimetype": "text/x-python",
   "name": "python",
   "nbconvert_exporter": "python",
   "pygments_lexer": "ipython3",
   "version": "3.9.13"
  }
 },
 "nbformat": 4,
 "nbformat_minor": 5
}
